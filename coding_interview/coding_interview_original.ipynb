{
 "cells": [
  {
   "cell_type": "markdown",
   "metadata": {},
   "source": [
    "# Part 1: Python Coding"
   ]
  },
  {
   "cell_type": "markdown",
   "metadata": {},
   "source": [
    "The goal of this assignment is to assess the applicant's coding skills in Python. We will be evaluating based on the following criteria, in order of importance: \n",
    "\n",
    "1. Correctness of the solution (i.e. does it pass the tests)\n",
    "2. Readability of the solution (i.e. can we understand the logic behind your solution, is your code readable)\n",
    "3. Execution speed (i.e. is your solution quite fast or really slow)\n",
    "3. Efficient usage of Python builtins and libraries. (i.e. is your solution \"pythonic\")\n",
    "\n",
    "**Task**: Please complete the functions that solve the following problems."
   ]
  },
  {
   "cell_type": "markdown",
   "metadata": {},
   "source": [
    "### Problem 1: Palindrome rearranging"
   ]
  },
  {
   "cell_type": "markdown",
   "metadata": {},
   "source": [
    "Given a string, find out if its characters can be rearranged to form a palindrome.\n",
    "\n",
    "**Example**\n",
    "\n",
    "For `inputString = \"aabb\"`, the output should be\n",
    "`palindromeRearranging(inputString) = true`.\n",
    "\n",
    "We can rearrange `\"aabb\"` to make `\"abba\"`, which is a palindrome.\n",
    "\n",
    "**Comments **\n",
    "\n",
    "The function will be tested also on a larger list of test cases. Feel free to include any other test case in the tests below, if you want to test your algorithm against a case not included in the list."
   ]
  },
  {
   "cell_type": "code",
   "execution_count": null,
   "metadata": {},
   "outputs": [],
   "source": [
    "def palindromeRearranging(inputString):\n",
    "    return NotImplemented"
   ]
  },
  {
   "cell_type": "code",
   "execution_count": null,
   "metadata": {},
   "outputs": [],
   "source": [
    "tests = [\"aabb\", \"acab\", \"dkfhakc\", \"odkirteikrtod\", \"ccddd\", \"ccdddd\", \"cd\", \"eeeeeee\", \"tacocat\", \"-a--a\"]\n",
    "solutions = [True, False, False, True, True, True, False, True, True, True]"
   ]
  },
  {
   "cell_type": "code",
   "execution_count": null,
   "metadata": {},
   "outputs": [],
   "source": [
    "for t, s in zip(tests, solutions):\n",
    "    if palindromeRearranging(t) != s:\n",
    "        print('Error in test %s' % t)\n",
    "        break\n",
    "else:\n",
    "    print('All tests passed.')"
   ]
  },
  {
   "cell_type": "markdown",
   "metadata": {},
   "source": [
    "### Problem 2: Parsing virtual docking results"
   ]
  },
  {
   "cell_type": "markdown",
   "metadata": {},
   "source": [
    "Under the directory `./files_to_parse` there are files containing results from a virtual docking experiment. In the experiment, several small molecules where docked with a target (protein) of interest, using a software called `Smina`. Within each output file, several results (modes) are provided per molecule, as a table in text format. For example, the file `example.txt`, contains:\n",
    "\n",
    "```\n",
    "[text we don't care about]\n",
    "\n",
    "mode |   affinity | dist from best mode\n",
    "     | (kcal/mol) | rmsd l.b.| rmsd u.b.\n",
    "-----+------------+----------+----------\n",
    "1       -5.4       0.000      0.000\n",
    "2       -5.4       20.469     21.598\n",
    "3       -5.4       5.526      7.144\n",
    "4       -5.2       6.959      7.734\n",
    "5       -5.2       2.251      2.985\n",
    "6       -5.1       1.412      1.608\n",
    "7       -4.9       2.079      2.810\n",
    "8       -4.9       2.921      3.692\n",
    "9       -4.8       6.995      8.018\n",
    "```\n",
    "\n",
    "To be able to analyze the results, we would like to parse these files and consolidate the results in a single, comma-separated value file with the following columns: `[filename, mode, affinity, rmsd_lb, rmsd_ub]`. For example, the entries for the `example.txt` file would be:\n",
    "\n",
    "```\n",
    "filename, mode, affinity, rmsd_lb, rmsd_ub\n",
    "example.txt, 1, -5.4, 0.000, 0.000\n",
    "example.txt, 2, -5.4, 20.469, 21.598  \n",
    "example.txt, 3, -5.4, 5.526, 7.144 \n",
    "example.txt, 4, -5.2, 6.959, 7.734\n",
    "example.txt, 5, -5.2, 2.251, 2.985\n",
    "example.txt, 6, -5.1, 1.412, 1.608\n",
    "example.txt, 7, -4.9, 2.079, 2.810\n",
    "example.txt, 8, -4.9, 2.921, 3.692\n",
    "example.txt, 9, -4.8, 6.995, 8.018\n",
    "```\n",
    "\n",
    "Your tasks are to:\n",
    "1. Write a python function that parses all the files in the directory `files_to_parse` and saves the data as a single CSV file named `parsed_data.csv`.\n",
    "\n",
    "2. Plot the distribution of the minimum affinities across the different molecules (files). Does it match any standard statistical distribution?\n",
    "\n",
    "3. In the file `data/important_molecules.txt` there is list of 20 molecules that are of particular importance in the analysis of the specific target. We have a hypothesis that the affinities of the different modes for each of the important molecules are drawn from the same distribution. Please test this hypothesis.\n",
    "\n",
    "**Comments**\n",
    "* Suggested libraries: `NumPy, SciPy, Pandas, Matplotlib, Seaborn`."
   ]
  },
  {
   "cell_type": "code",
   "execution_count": null,
   "metadata": {},
   "outputs": [],
   "source": [
    "# Please solve the problem here in as many cells needed."
   ]
  },
  {
   "cell_type": "markdown",
   "metadata": {},
   "source": [
    "# Part 2: Machine Learning "
   ]
  },
  {
   "cell_type": "markdown",
   "metadata": {},
   "source": [
    "The goal of this assignment is to assess the applicant's expertise in solving problems with machine learning using Python. We will be evaluating the solutions by the following criteria (all equally important):\n",
    "\n",
    "* Data selection/preprocessing and train/test split sanity\n",
    "* Model evaluation pipeline. We are not looking for a _correct_ model, rather than a sound evaluation of different models or parameter combinations.\n",
    "* Explanation of the reasons behind the final model selection.\n",
    "* Model accuracy on a held-out test set. The test set data are held out by us and not provided, so feel free to use all available data for training/validation.  \n",
    "\n"
   ]
  },
  {
   "cell_type": "markdown",
   "metadata": {},
   "source": [
    "### Problem 1: Pokemon Type Classification"
   ]
  },
  {
   "cell_type": "markdown",
   "metadata": {},
   "source": [
    "Unlike the popular game series typical quest to catch them all, here your objective is to predict the type of the pokemon based on its stats. \n",
    "\n",
    "**Data**: In the file `data/Pokemon.csv`, you can find the relevant data for 634 Pokemon. \n",
    "The column to be used as an output, is `Type 1`. You can use any combination of the other columns as an input.\n",
    "\n",
    "**Evaluation**: Your model will be evaluated on the multi-class classification problem of predicting the `Type 1` label.  \n"
   ]
  },
  {
   "cell_type": "code",
   "execution_count": null,
   "metadata": {},
   "outputs": [],
   "source": [
    "# Please solve the problem here in as many cells needed."
   ]
  }
 ],
 "metadata": {
  "kernelspec": {
   "display_name": "Python 3",
   "language": "python",
   "name": "python3"
  },
  "language_info": {
   "codemirror_mode": {
    "name": "ipython",
    "version": 3
   },
   "file_extension": ".py",
   "mimetype": "text/x-python",
   "name": "python",
   "nbconvert_exporter": "python",
   "pygments_lexer": "ipython3",
   "version": "3.7.3"
  }
 },
 "nbformat": 4,
 "nbformat_minor": 2
}
